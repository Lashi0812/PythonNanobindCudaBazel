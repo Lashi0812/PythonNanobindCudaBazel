{
 "cells": [
  {
   "cell_type": "code",
   "execution_count": 1,
   "metadata": {},
   "outputs": [],
   "source": [
    "import pathlib\n",
    "import subprocess\n",
    "import importlib\n",
    "import sys\n",
    "\n",
    "if not importlib.util.find_spec(\"mypy\"):\n",
    "    subprocess.run([sys.executable,\"-m\",\"pip\",\"install\",\"mypy\"])"
   ]
  },
  {
   "cell_type": "code",
   "execution_count": 2,
   "metadata": {},
   "outputs": [
    {
     "name": "stdout",
     "output_type": "stream",
     "text": [
      "a is of integer type\n"
     ]
    }
   ],
   "source": [
    "a = 10\n",
    "match a:\n",
    "    case int():\n",
    "        print(\"a is of integer type\")\n",
    "    case float():\n",
    "        print(\"a is of float type\")\n"
   ]
  },
  {
   "cell_type": "code",
   "execution_count": 3,
   "metadata": {},
   "outputs": [
    {
     "data": {
      "text/plain": [
       "pathlib.PosixPath"
      ]
     },
     "execution_count": 3,
     "metadata": {},
     "output_type": "execute_result"
    }
   ],
   "source": [
    "path = \"/root\"\n",
    "match path:\n",
    "    case str():\n",
    "        path = pathlib.Path(path)\n",
    "    case pathlib.Path():\n",
    "        path = path.name\n",
    "\n",
    "type(path)"
   ]
  },
  {
   "cell_type": "code",
   "execution_count": 4,
   "metadata": {},
   "outputs": [
    {
     "data": {
      "text/plain": [
       "str"
      ]
     },
     "execution_count": 4,
     "metadata": {},
     "output_type": "execute_result"
    }
   ],
   "source": [
    "match path:\n",
    "    case str():\n",
    "        path = pathlib.Path(path)\n",
    "    case pathlib.Path():\n",
    "        path = path.name\n",
    "\n",
    "type(path)"
   ]
  },
  {
   "cell_type": "code",
   "execution_count": 5,
   "metadata": {},
   "outputs": [
    {
     "data": {
      "text/plain": [
       "['/root', '/usr']"
      ]
     },
     "execution_count": 5,
     "metadata": {},
     "output_type": "execute_result"
    }
   ],
   "source": [
    "paths = [\"/root\",\"/usr\"]\n",
    "match paths:\n",
    "    case str():\n",
    "        paths = [pathlib.Path(paths)]\n",
    "    case list(str()):\n",
    "        paths = list(map(pathlib.Path,paths))\n",
    "    case pathlib.Path():\n",
    "        paths = [paths]\n",
    "paths"
   ]
  },
  {
   "cell_type": "code",
   "execution_count": 6,
   "metadata": {},
   "outputs": [],
   "source": [
    "def test_match(some):\n",
    "    match some:\n",
    "        case str():\n",
    "            print(\"it is string\")\n",
    "        case list() as list_some if all(isinstance(a,str) for a in list_some):\n",
    "            print(\"list of string\")\n",
    "        case list() as list_some if all(isinstance(a,pathlib.Path) for a in list_some):\n",
    "            print(\"list of Path\")\n",
    "        case _:\n",
    "            print(\"dont know\")"
   ]
  },
  {
   "cell_type": "code",
   "execution_count": 7,
   "metadata": {},
   "outputs": [
    {
     "name": "stdout",
     "output_type": "stream",
     "text": [
      "it is string\n"
     ]
    }
   ],
   "source": [
    "test_match(\"hi\")"
   ]
  },
  {
   "cell_type": "code",
   "execution_count": 8,
   "metadata": {},
   "outputs": [
    {
     "name": "stdout",
     "output_type": "stream",
     "text": [
      "list of string\n"
     ]
    }
   ],
   "source": [
    "test_match([\"g\",\"g\"])"
   ]
  },
  {
   "cell_type": "code",
   "execution_count": 9,
   "metadata": {},
   "outputs": [
    {
     "name": "stdout",
     "output_type": "stream",
     "text": [
      "list of Path\n"
     ]
    }
   ],
   "source": [
    "test_match(list(map(pathlib.Path,list(\"hello\"))))"
   ]
  },
  {
   "cell_type": "code",
   "execution_count": 10,
   "metadata": {},
   "outputs": [
    {
     "name": "stdout",
     "output_type": "stream",
     "text": [
      "Overwriting test_convert_to_list_paths.py\n"
     ]
    }
   ],
   "source": [
    "%%writefile test_convert_to_list_paths.py\n",
    "import pathlib\n",
    "\n",
    "def convert_to_list_paths(\n",
    "    paths: pathlib.Path | str | list[str],\n",
    ") -> list[pathlib.Path] | None:\n",
    "    match paths:\n",
    "        case str():\n",
    "            return [pathlib.Path(paths)]\n",
    "        case pathlib.Path():\n",
    "            return [paths]\n",
    "        case list() as list_str if all(isinstance(a, str) for a in list_str):\n",
    "            return list(map(pathlib.Path, list_str))\n",
    "        case _:\n",
    "            return None\n",
    "\n",
    "convert_to_list_paths(pathlib.Path(\"a\"))\n",
    "convert_to_list_paths(\"a\")\n",
    "convert_to_list_paths(list(\"hello\"))\n",
    "list_path:list[pathlib.Path] = list(map(lambda x :pathlib.Path(x),list(\"hello\")))\n",
    "# convert_to_list_paths(list_path)"
   ]
  },
  {
   "cell_type": "code",
   "execution_count": 11,
   "metadata": {},
   "outputs": [
    {
     "name": "stdout",
     "output_type": "stream",
     "text": [
      "0\n",
      "\u001b[1m\u001b[32mSuccess: no issues found in 1 source file\u001b[m\n",
      "\n"
     ]
    }
   ],
   "source": [
    "mypy_out = subprocess.run([\"mypy\",\"test_convert_to_list_paths.py\"],capture_output=True,text=True)\n",
    "print(mypy_out.returncode)\n",
    "print(mypy_out.stdout)"
   ]
  },
  {
   "cell_type": "code",
   "execution_count": 12,
   "metadata": {},
   "outputs": [],
   "source": [
    "from test_convert_to_list_paths import convert_to_list_paths\n",
    "\n",
    "path_dict = {\"source_path\": [\"/root\",\"/etc\"], \"out_path\": \"/usr\"}\n",
    "match path_dict:\n",
    "    case {\n",
    "        \"source_path\": list(src_paths) | str(src_paths) | pathlib.Path(src_paths),\n",
    "        \"out_path\": str(out_paths) | list(out_paths) | pathlib.Path(out_paths)\n",
    "        }:\n",
    "        path_dict = {\"source_path\": convert_to_list_paths(src_paths), \n",
    "                     \"out_path\": convert_to_list_paths(out_paths)}\n",
    "    case _:\n",
    "        raise TypeError(\"str|list(str)|Path\")"
   ]
  },
  {
   "cell_type": "code",
   "execution_count": 13,
   "metadata": {},
   "outputs": [
    {
     "data": {
      "text/plain": [
       "{'source_path': [PosixPath('/root'), PosixPath('/etc')],\n",
       " 'out_path': [PosixPath('/usr')]}"
      ]
     },
     "execution_count": 13,
     "metadata": {},
     "output_type": "execute_result"
    }
   ],
   "source": [
    "path_dict"
   ]
  }
 ],
 "metadata": {
  "kernelspec": {
   "display_name": "build",
   "language": "python",
   "name": "python3"
  },
  "language_info": {
   "codemirror_mode": {
    "name": "ipython",
    "version": 3
   },
   "file_extension": ".py",
   "mimetype": "text/x-python",
   "name": "python",
   "nbconvert_exporter": "python",
   "pygments_lexer": "ipython3",
   "version": "3.10.13"
  }
 },
 "nbformat": 4,
 "nbformat_minor": 2
}
