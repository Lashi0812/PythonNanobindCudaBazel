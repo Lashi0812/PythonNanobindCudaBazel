{
 "cells": [
  {
   "cell_type": "code",
   "execution_count": 1,
   "metadata": {},
   "outputs": [
    {
     "name": "stdout",
     "output_type": "stream",
     "text": [
      "Collecting mypy\n",
      "  Using cached mypy-1.8.0-cp310-cp310-manylinux_2_17_x86_64.manylinux2014_x86_64.whl.metadata (1.8 kB)\n",
      "Requirement already satisfied: typing-extensions>=4.1.0 in /root/miniconda3/envs/build/lib/python3.10/site-packages (from mypy) (4.9.0)\n",
      "Collecting mypy-extensions>=1.0.0 (from mypy)\n",
      "  Using cached mypy_extensions-1.0.0-py3-none-any.whl (4.7 kB)\n",
      "Requirement already satisfied: tomli>=1.1.0 in /root/miniconda3/envs/build/lib/python3.10/site-packages (from mypy) (2.0.1)\n",
      "Downloading mypy-1.8.0-cp310-cp310-manylinux_2_17_x86_64.manylinux2014_x86_64.whl (12.5 MB)\n",
      "\u001b[2K   \u001b[90m━━━━━━━━━━━━━━━━━━━━━━━━━━━━━━━━━━━━━━━━\u001b[0m \u001b[32m12.5/12.5 MB\u001b[0m \u001b[31m7.7 MB/s\u001b[0m eta \u001b[36m0:00:00\u001b[0m00:01\u001b[0m00:01\u001b[0mm\n",
      "\u001b[?25hInstalling collected packages: mypy-extensions, mypy\n",
      "Successfully installed mypy-1.8.0 mypy-extensions-1.0.0\n"
     ]
    },
    {
     "name": "stderr",
     "output_type": "stream",
     "text": [
      "\u001b[33mWARNING: Running pip as the 'root' user can result in broken permissions and conflicting behaviour with the system package manager. It is recommended to use a virtual environment instead: https://pip.pypa.io/warnings/venv\u001b[0m\u001b[33m\n",
      "\u001b[0m"
     ]
    }
   ],
   "source": [
    "import pathlib\n",
    "import subprocess\n",
    "import importlib\n",
    "import sys\n",
    "\n",
    "if not importlib.util.find_spec(\"mypy\"):\n",
    "    subprocess.run([sys.executable,\"-m\",\"pip\",\"install\",\"mypy\"])"
   ]
  },
  {
   "cell_type": "code",
   "execution_count": 2,
   "metadata": {},
   "outputs": [
    {
     "name": "stdout",
     "output_type": "stream",
     "text": [
      "a is of integer type\n"
     ]
    }
   ],
   "source": [
    "a = 10\n",
    "match a:\n",
    "    case int():\n",
    "        print(\"a is of integer type\")\n",
    "    case float():\n",
    "        print(\"a is of float type\")\n"
   ]
  },
  {
   "cell_type": "code",
   "execution_count": 3,
   "metadata": {},
   "outputs": [
    {
     "data": {
      "text/plain": [
       "pathlib.PosixPath"
      ]
     },
     "execution_count": 3,
     "metadata": {},
     "output_type": "execute_result"
    }
   ],
   "source": [
    "path = \"/root\"\n",
    "match path:\n",
    "    case str():\n",
    "        path = pathlib.Path(path)\n",
    "    case pathlib.Path():\n",
    "        path = path.name\n",
    "\n",
    "type(path)"
   ]
  },
  {
   "cell_type": "code",
   "execution_count": 4,
   "metadata": {},
   "outputs": [
    {
     "data": {
      "text/plain": [
       "str"
      ]
     },
     "execution_count": 4,
     "metadata": {},
     "output_type": "execute_result"
    }
   ],
   "source": [
    "match path:\n",
    "    case str():\n",
    "        path = pathlib.Path(path)\n",
    "    case pathlib.Path():\n",
    "        path = path.name\n",
    "\n",
    "type(path)"
   ]
  },
  {
   "cell_type": "code",
   "execution_count": 5,
   "metadata": {},
   "outputs": [
    {
     "data": {
      "text/plain": [
       "['/root', '/usr']"
      ]
     },
     "execution_count": 5,
     "metadata": {},
     "output_type": "execute_result"
    }
   ],
   "source": [
    "paths = [\"/root\",\"/usr\"]\n",
    "match paths:\n",
    "    case str():\n",
    "        paths = [pathlib.Path(paths)]\n",
    "    case list(str()):\n",
    "        paths = list(map(pathlib.Path,paths))\n",
    "    case pathlib.Path():\n",
    "        paths = [paths]\n",
    "paths"
   ]
  },
  {
   "cell_type": "code",
   "execution_count": 6,
   "metadata": {},
   "outputs": [],
   "source": [
    "def test_match(some):\n",
    "    match some:\n",
    "        case str():\n",
    "            print(\"it is string\")\n",
    "        case list() as list_some if all(isinstance(a,str) for a in list_some):\n",
    "            print(\"list of string\")\n",
    "        case list() as list_some if all(isinstance(a,pathlib.Path) for a in list_some):\n",
    "            print(\"list of Path\")\n",
    "        case _:\n",
    "            print(\"dont know\")"
   ]
  },
  {
   "cell_type": "code",
   "execution_count": 7,
   "metadata": {},
   "outputs": [
    {
     "name": "stdout",
     "output_type": "stream",
     "text": [
      "it is string\n"
     ]
    }
   ],
   "source": [
    "test_match(\"hi\")"
   ]
  },
  {
   "cell_type": "code",
   "execution_count": 8,
   "metadata": {},
   "outputs": [
    {
     "name": "stdout",
     "output_type": "stream",
     "text": [
      "list of string\n"
     ]
    }
   ],
   "source": [
    "test_match([\"g\",\"g\"])"
   ]
  },
  {
   "cell_type": "code",
   "execution_count": 9,
   "metadata": {},
   "outputs": [
    {
     "name": "stdout",
     "output_type": "stream",
     "text": [
      "list of Path\n"
     ]
    }
   ],
   "source": [
    "test_match(list(map(pathlib.Path,list(\"hello\"))))"
   ]
  },
  {
   "cell_type": "code",
   "execution_count": 43,
   "metadata": {},
   "outputs": [
    {
     "name": "stdout",
     "output_type": "stream",
     "text": [
      "Overwriting test_convert_to_list_paths.py\n"
     ]
    }
   ],
   "source": [
    "%%writefile test_convert_to_list_paths.py\n",
    "import pathlib\n",
    "\n",
    "def convert_to_list_paths(\n",
    "    paths: pathlib.Path | str | list[str],\n",
    ") -> list[pathlib.Path] | None:\n",
    "    match paths:\n",
    "        case str():\n",
    "            return [pathlib.Path(paths)]\n",
    "        case pathlib.Path():\n",
    "            return [paths]\n",
    "        case list() as list_str if all(isinstance(a, str) for a in list_str):\n",
    "            return list(map(pathlib.Path, list_str))\n",
    "        case _:\n",
    "            return None\n",
    "\n",
    "convert_to_list_paths(pathlib.Path(\"a\"))\n",
    "convert_to_list_paths(\"a\")\n",
    "convert_to_list_paths(list(\"hello\"))\n",
    "list_path:list[pathlib.Path] = list(map(lambda x :pathlib.Path(x),list(\"hello\")))\n",
    "# convert_to_list_paths(list_path)"
   ]
  },
  {
   "cell_type": "code",
   "execution_count": 46,
   "metadata": {},
   "outputs": [
    {
     "name": "stdout",
     "output_type": "stream",
     "text": [
      "0\n",
      "\u001b[1m\u001b[32mSuccess: no issues found in 1 source file\u001b[m\n",
      "\n"
     ]
    }
   ],
   "source": [
    "mypy_out = subprocess.run([\"mypy\",\"test_convert_to_list_paths.py\"],capture_output=True,text=True)\n",
    "print(mypy_out.returncode)\n",
    "print(mypy_out.stdout)"
   ]
  },
  {
   "cell_type": "code",
   "execution_count": 52,
   "metadata": {},
   "outputs": [],
   "source": [
    "from test_convert_to_list_paths import convert_to_list_paths\n",
    "\n",
    "path_dict = {\"source_path\": [\"/root\",\"/etc\"], \"out_path\": \"/usr\"}\n",
    "match path_dict:\n",
    "    case {\n",
    "        \"source_path\": list(src_paths) | str(src_paths) | pathlib.Path(src_paths),\n",
    "        \"out_path\": str(out_paths) | list(out_paths) | pathlib.Path(out_paths)\n",
    "        }:\n",
    "        path_dict = {\"source_path\": convert_to_list_paths(src_paths), \n",
    "                     \"out_path\": convert_to_list_paths(out_paths)}\n",
    "    case _:\n",
    "        raise TypeError(\"str|list(str)|Path\")"
   ]
  },
  {
   "cell_type": "code",
   "execution_count": 53,
   "metadata": {},
   "outputs": [
    {
     "data": {
      "text/plain": [
       "{'source_path': [PosixPath('/root'), PosixPath('/etc')],\n",
       " 'out_path': [PosixPath('/usr')]}"
      ]
     },
     "execution_count": 53,
     "metadata": {},
     "output_type": "execute_result"
    }
   ],
   "source": [
    "path_dict"
   ]
  },
  {
   "cell_type": "code",
   "execution_count": null,
   "metadata": {},
   "outputs": [],
   "source": []
  }
 ],
 "metadata": {
  "kernelspec": {
   "display_name": "build",
   "language": "python",
   "name": "python3"
  },
  "language_info": {
   "codemirror_mode": {
    "name": "ipython",
    "version": 3
   },
   "file_extension": ".py",
   "mimetype": "text/x-python",
   "name": "python",
   "nbconvert_exporter": "python",
   "pygments_lexer": "ipython3",
   "version": "3.10.13"
  }
 },
 "nbformat": 4,
 "nbformat_minor": 2
}
