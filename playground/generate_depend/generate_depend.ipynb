{
 "cells": [
  {
   "cell_type": "code",
   "execution_count": 1,
   "metadata": {},
   "outputs": [],
   "source": [
    "import subprocess\n",
    "import shlex\n",
    "import pathlib"
   ]
  },
  {
   "cell_type": "code",
   "execution_count": 2,
   "metadata": {},
   "outputs": [],
   "source": [
    "def delete_generated_files(exclude:list = []):\n",
    "    for f in pathlib.Path(\".\").iterdir():\n",
    "        if not (f.name.endswith(\".ipynb\") or f.name in exclude):\n",
    "            f.unlink(missing_ok=True)\n",
    "\n",
    "delete_generated_files()"
   ]
  },
  {
   "cell_type": "code",
   "execution_count": 3,
   "metadata": {},
   "outputs": [],
   "source": [
    "def print_message(process:subprocess.CompletedProcess,\n",
    "                  success_msg:str = \"success\",\n",
    "                  failed_msg:str = \"failed\"):\n",
    "    if process.returncode == 0 :\n",
    "        print(f\"\\N{White Heavy Check Mark}{success_msg} \")\n",
    "    else:\n",
    "        print(f\"\\N{Cross Mark} {failed_msg}\")"
   ]
  },
  {
   "cell_type": "markdown",
   "metadata": {},
   "source": [
    "# generate dependency with system header file (-M)"
   ]
  },
  {
   "cell_type": "code",
   "execution_count": 4,
   "metadata": {},
   "outputs": [
    {
     "name": "stdout",
     "output_type": "stream",
     "text": [
      "Writing dummy.cc\n"
     ]
    }
   ],
   "source": [
    "%%writefile dummy.cc\n",
    "int main(){\n",
    "    return 0;\n",
    "}"
   ]
  },
  {
   "cell_type": "code",
   "execution_count": 5,
   "metadata": {},
   "outputs": [
    {
     "name": "stdout",
     "output_type": "stream",
     "text": [
      "✅Generated Dependency Succeed \n"
     ]
    }
   ],
   "source": [
    "gen_depend = subprocess.run(shlex.split(\"g++ -M dummy.cc -o dummy.pic.d\"))\n",
    "print_message(gen_depend,\"Generated Dependency Succeed\",\"Generated Dependency Failed\")"
   ]
  },
  {
   "cell_type": "code",
   "execution_count": 6,
   "metadata": {},
   "outputs": [
    {
     "name": "stdout",
     "output_type": "stream",
     "text": [
      "dummy.o: dummy.cc /usr/include/stdc-predef.h\n",
      "\n"
     ]
    }
   ],
   "source": [
    "with open(\"dummy.pic.d\" ,\"r\") as f:\n",
    "    print(*f.readlines())"
   ]
  },
  {
   "cell_type": "code",
   "execution_count": 7,
   "metadata": {},
   "outputs": [
    {
     "name": "stdout",
     "output_type": "stream",
     "text": [
      "Writing dummy1.cc\n"
     ]
    }
   ],
   "source": [
    "%%writefile dummy1.cc\n",
    "#include <iostream>\n",
    "int main(){\n",
    "    std::cout << \"hello\" << std::endl;\n",
    "    return 0;\n",
    "}"
   ]
  },
  {
   "cell_type": "code",
   "execution_count": 8,
   "metadata": {},
   "outputs": [
    {
     "name": "stdout",
     "output_type": "stream",
     "text": [
      "✅Generated Dependency Succeed \n"
     ]
    }
   ],
   "source": [
    "gen_depend = subprocess.run(shlex.split(\"g++ -M dummy1.cc -o dummy1.pic.d\"))\n",
    "print_message(gen_depend,\"Generated Dependency Succeed\",\"Generated Dependency Failed\")"
   ]
  },
  {
   "cell_type": "code",
   "execution_count": 9,
   "metadata": {},
   "outputs": [
    {
     "name": "stdout",
     "output_type": "stream",
     "text": [
      "dummy1.o: dummy1.cc /usr/include/stdc-predef.h \\\n",
      "  /usr/include/c++/11/iostream \\\n",
      "  /usr/include/x86_64-linux-gnu/c++/11/bits/c++config.h \\\n",
      "  /usr/include/x86_64-linux-gnu/c++/11/bits/os_defines.h \\\n",
      "  /usr/include/features.h /usr/include/features-time64.h \\\n",
      "  /usr/include/x86_64-linux-gnu/bits/wordsize.h \\\n",
      "  /usr/include/x86_64-linux-gnu/bits/timesize.h \\\n",
      "  /usr/include/x86_64-linux-gnu/sys/cdefs.h \\\n",
      "  /usr/include/x86_64-linux-gnu/bits/long-double.h \\\n",
      "  /usr/include/x86_64-linux-gnu/gnu/stubs.h \\\n",
      "  /usr/include/x86_64-linux-gnu/gnu/stubs-64.h \\\n",
      "  /usr/include/x86_64-linux-gnu/c++/11/bits/cpu_defines.h \\\n",
      "  /usr/include/c++/11/pstl/pstl_config.h /usr/include/c++/11/ostream \\\n",
      "  /usr/include/c++/11/ios /usr/include/c++/11/iosfwd \\\n",
      "  /usr/include/c++/11/bits/stringfwd.h \\\n",
      "  /usr/include/c++/11/bits/memoryfwd.h /usr/include/c++/11/bits/postypes.h \\\n",
      "  /usr/include/c++/11/cwchar /usr/include/wchar.h \\\n",
      "  /usr/include/x86_64-linux-gnu/bits/libc-header-start.h \\\n",
      "  /usr/include/x86_64-linux-gnu/bits/floatn.h \\\n",
      "  /usr/include/x86_64-linux-gnu/bits/floatn-common.h \\\n",
      "  /usr/lib/gcc/x86_64-linux-gnu/11/include/stddef.h \\\n",
      "  /usr/lib/gcc/x86_64-linux-gnu/11/include/stdarg.h \\\n",
      "  /usr/include/x86_64-linux-gnu/bits/wchar.h \\\n",
      "  /usr/include/x86_64-linux-gnu/bits/types/wint_t.h \\\n",
      "  /usr/include/x86_64-linux-gnu/bits/types/mbstate_t.h \\\n",
      "  /usr/include/x86_64-linux-gnu/bits/types/__mbstate_t.h \\\n",
      "  /usr/include/x86_64-linux-gnu/bits/types/__FILE.h \\\n",
      "  /usr/include/x86_64-linux-gnu/bits/types/FILE.h \\\n",
      "  /usr/include/x86_64-linux-gnu/bits/types/locale_t.h \\\n",
      "  /usr/include/x86_64-linux-gnu/bits/types/__locale_t.h \\\n",
      "  /usr/include/c++/11/exception /usr/include/c++/11/bits/exception.h \\\n",
      "  /usr/include/c++/11/bits/exception_ptr.h \\\n",
      "  /usr/include/c++/11/bits/exception_defines.h \\\n",
      "  /usr/include/c++/11/bits/cxxabi_init_exception.h \\\n",
      "  /usr/include/c++/11/typeinfo /usr/include/c++/11/bits/hash_bytes.h \\\n",
      "  /usr/include/c++/11/new /usr/include/c++/11/bits/move.h \\\n",
      "  /usr/include/c++/11/type_traits \\\n",
      "  /usr/include/c++/11/bits/nested_exception.h \\\n",
      "  /usr/include/c++/11/bits/char_traits.h \\\n",
      "  /usr/include/c++/11/bits/stl_algobase.h \\\n",
      "  /usr/include/c++/11/bits/functexcept.h \\\n",
      "  /usr/include/c++/11/bits/cpp_type_traits.h \\\n",
      "  /usr/include/c++/11/ext/type_traits.h \\\n",
      "  /usr/include/c++/11/ext/numeric_traits.h \\\n",
      "  /usr/include/c++/11/bits/stl_pair.h \\\n",
      "  /usr/include/c++/11/bits/stl_iterator_base_types.h \\\n",
      "  /usr/include/c++/11/bits/stl_iterator_base_funcs.h \\\n",
      "  /usr/include/c++/11/bits/concept_check.h \\\n",
      "  /usr/include/c++/11/debug/assertions.h \\\n",
      "  /usr/include/c++/11/bits/stl_iterator.h \\\n",
      "  /usr/include/c++/11/bits/ptr_traits.h /usr/include/c++/11/debug/debug.h \\\n",
      "  /usr/include/c++/11/bits/predefined_ops.h /usr/include/c++/11/cstdint \\\n",
      "  /usr/lib/gcc/x86_64-linux-gnu/11/include/stdint.h /usr/include/stdint.h \\\n",
      "  /usr/include/x86_64-linux-gnu/bits/types.h \\\n",
      "  /usr/include/x86_64-linux-gnu/bits/typesizes.h \\\n",
      "  /usr/include/x86_64-linux-gnu/bits/time64.h \\\n",
      "  /usr/include/x86_64-linux-gnu/bits/stdint-intn.h \\\n",
      "  /usr/include/x86_64-linux-gnu/bits/stdint-uintn.h \\\n",
      "  /usr/include/c++/11/bits/localefwd.h \\\n",
      "  /usr/include/x86_64-linux-gnu/c++/11/bits/c++locale.h \\\n",
      "  /usr/include/c++/11/clocale /usr/include/locale.h \\\n",
      "  /usr/include/x86_64-linux-gnu/bits/locale.h /usr/include/c++/11/cctype \\\n",
      "  /usr/include/ctype.h /usr/include/x86_64-linux-gnu/bits/endian.h \\\n",
      "  /usr/include/x86_64-linux-gnu/bits/endianness.h \\\n",
      "  /usr/include/c++/11/bits/ios_base.h /usr/include/c++/11/ext/atomicity.h \\\n",
      "  /usr/include/x86_64-linux-gnu/c++/11/bits/gthr.h \\\n",
      "  /usr/include/x86_64-linux-gnu/c++/11/bits/gthr-default.h \\\n",
      "  /usr/include/pthread.h /usr/include/sched.h \\\n",
      "  /usr/include/x86_64-linux-gnu/bits/types/time_t.h \\\n",
      "  /usr/include/x86_64-linux-gnu/bits/types/struct_timespec.h \\\n",
      "  /usr/include/x86_64-linux-gnu/bits/sched.h \\\n",
      "  /usr/include/x86_64-linux-gnu/bits/types/struct_sched_param.h \\\n",
      "  /usr/include/x86_64-linux-gnu/bits/cpu-set.h /usr/include/time.h \\\n",
      "  /usr/include/x86_64-linux-gnu/bits/time.h \\\n",
      "  /usr/include/x86_64-linux-gnu/bits/timex.h \\\n",
      "  /usr/include/x86_64-linux-gnu/bits/types/struct_timeval.h \\\n",
      "  /usr/include/x86_64-linux-gnu/bits/types/clock_t.h \\\n",
      "  /usr/include/x86_64-linux-gnu/bits/types/struct_tm.h \\\n",
      "  /usr/include/x86_64-linux-gnu/bits/types/clockid_t.h \\\n",
      "  /usr/include/x86_64-linux-gnu/bits/types/timer_t.h \\\n",
      "  /usr/include/x86_64-linux-gnu/bits/types/struct_itimerspec.h \\\n",
      "  /usr/include/x86_64-linux-gnu/bits/pthreadtypes.h \\\n",
      "  /usr/include/x86_64-linux-gnu/bits/thread-shared-types.h \\\n",
      "  /usr/include/x86_64-linux-gnu/bits/pthreadtypes-arch.h \\\n",
      "  /usr/include/x86_64-linux-gnu/bits/atomic_wide_counter.h \\\n",
      "  /usr/include/x86_64-linux-gnu/bits/struct_mutex.h \\\n",
      "  /usr/include/x86_64-linux-gnu/bits/struct_rwlock.h \\\n",
      "  /usr/include/x86_64-linux-gnu/bits/setjmp.h \\\n",
      "  /usr/include/x86_64-linux-gnu/bits/types/__sigset_t.h \\\n",
      "  /usr/include/x86_64-linux-gnu/bits/types/struct___jmp_buf_tag.h \\\n",
      "  /usr/include/x86_64-linux-gnu/bits/pthread_stack_min-dynamic.h \\\n",
      "  /usr/include/x86_64-linux-gnu/c++/11/bits/atomic_word.h \\\n",
      "  /usr/include/x86_64-linux-gnu/sys/single_threaded.h \\\n",
      "  /usr/include/c++/11/bits/locale_classes.h /usr/include/c++/11/string \\\n",
      "  /usr/include/c++/11/bits/allocator.h \\\n",
      "  /usr/include/x86_64-linux-gnu/c++/11/bits/c++allocator.h \\\n",
      "  /usr/include/c++/11/ext/new_allocator.h \\\n",
      "  /usr/include/c++/11/bits/ostream_insert.h \\\n",
      "  /usr/include/c++/11/bits/cxxabi_forced.h \\\n",
      "  /usr/include/c++/11/bits/stl_function.h \\\n",
      "  /usr/include/c++/11/backward/binders.h \\\n",
      "  /usr/include/c++/11/bits/range_access.h \\\n",
      "  /usr/include/c++/11/initializer_list \\\n",
      "  /usr/include/c++/11/bits/basic_string.h \\\n",
      "  /usr/include/c++/11/ext/alloc_traits.h \\\n",
      "  /usr/include/c++/11/bits/alloc_traits.h \\\n",
      "  /usr/include/c++/11/bits/stl_construct.h /usr/include/c++/11/string_view \\\n",
      "  /usr/include/c++/11/bits/functional_hash.h \\\n",
      "  /usr/include/c++/11/bits/string_view.tcc \\\n",
      "  /usr/include/c++/11/ext/string_conversions.h /usr/include/c++/11/cstdlib \\\n",
      "  /usr/include/stdlib.h /usr/include/x86_64-linux-gnu/bits/waitflags.h \\\n",
      "  /usr/include/x86_64-linux-gnu/bits/waitstatus.h \\\n",
      "  /usr/include/x86_64-linux-gnu/sys/types.h /usr/include/endian.h \\\n",
      "  /usr/include/x86_64-linux-gnu/bits/byteswap.h \\\n",
      "  /usr/include/x86_64-linux-gnu/bits/uintn-identity.h \\\n",
      "  /usr/include/x86_64-linux-gnu/sys/select.h \\\n",
      "  /usr/include/x86_64-linux-gnu/bits/select.h \\\n",
      "  /usr/include/x86_64-linux-gnu/bits/types/sigset_t.h \\\n",
      "  /usr/include/alloca.h /usr/include/x86_64-linux-gnu/bits/stdlib-float.h \\\n",
      "  /usr/include/c++/11/bits/std_abs.h /usr/include/c++/11/cstdio \\\n",
      "  /usr/include/stdio.h /usr/include/x86_64-linux-gnu/bits/types/__fpos_t.h \\\n",
      "  /usr/include/x86_64-linux-gnu/bits/types/__fpos64_t.h \\\n",
      "  /usr/include/x86_64-linux-gnu/bits/types/struct_FILE.h \\\n",
      "  /usr/include/x86_64-linux-gnu/bits/types/cookie_io_functions_t.h \\\n",
      "  /usr/include/x86_64-linux-gnu/bits/stdio_lim.h \\\n",
      "  /usr/include/c++/11/cerrno /usr/include/errno.h \\\n",
      "  /usr/include/x86_64-linux-gnu/bits/errno.h /usr/include/linux/errno.h \\\n",
      "  /usr/include/x86_64-linux-gnu/asm/errno.h \\\n",
      "  /usr/include/asm-generic/errno.h /usr/include/asm-generic/errno-base.h \\\n",
      "  /usr/include/x86_64-linux-gnu/bits/types/error_t.h \\\n",
      "  /usr/include/c++/11/bits/charconv.h \\\n",
      "  /usr/include/c++/11/bits/basic_string.tcc \\\n",
      "  /usr/include/c++/11/bits/locale_classes.tcc \\\n",
      "  /usr/include/c++/11/system_error \\\n",
      "  /usr/include/x86_64-linux-gnu/c++/11/bits/error_constants.h \\\n",
      "  /usr/include/c++/11/stdexcept /usr/include/c++/11/streambuf \\\n",
      "  /usr/include/c++/11/bits/streambuf.tcc \\\n",
      "  /usr/include/c++/11/bits/basic_ios.h \\\n",
      "  /usr/include/c++/11/bits/locale_facets.h /usr/include/c++/11/cwctype \\\n",
      "  /usr/include/wctype.h /usr/include/x86_64-linux-gnu/bits/wctype-wchar.h \\\n",
      "  /usr/include/x86_64-linux-gnu/c++/11/bits/ctype_base.h \\\n",
      "  /usr/include/c++/11/bits/streambuf_iterator.h \\\n",
      "  /usr/include/x86_64-linux-gnu/c++/11/bits/ctype_inline.h \\\n",
      "  /usr/include/c++/11/bits/locale_facets.tcc \\\n",
      "  /usr/include/c++/11/bits/basic_ios.tcc \\\n",
      "  /usr/include/c++/11/bits/ostream.tcc /usr/include/c++/11/istream \\\n",
      "  /usr/include/c++/11/bits/istream.tcc\n",
      "\n"
     ]
    }
   ],
   "source": [
    "with open(\"dummy1.pic.d\" ,\"r\") as f:\n",
    "    print(*f.readlines())"
   ]
  },
  {
   "cell_type": "markdown",
   "metadata": {},
   "source": [
    "# generate dependency without system header file (-MM)"
   ]
  },
  {
   "cell_type": "code",
   "execution_count": 10,
   "metadata": {},
   "outputs": [
    {
     "name": "stdout",
     "output_type": "stream",
     "text": [
      "✅Generated Dependency Succeed \n"
     ]
    }
   ],
   "source": [
    "gen_depend_ns = subprocess.run(shlex.split(\"g++ -MM dummy1.cc -o dummy1_ns.pic.d\"))\n",
    "print_message(gen_depend_ns,\"Generated Dependency Succeed\",\"Generated Dependency Failed\")"
   ]
  },
  {
   "cell_type": "code",
   "execution_count": 11,
   "metadata": {},
   "outputs": [
    {
     "name": "stdout",
     "output_type": "stream",
     "text": [
      "dummy1.o: dummy1.cc\n",
      "\n"
     ]
    }
   ],
   "source": [
    "with open(\"dummy1_ns.pic.d\" ,\"r\") as f:\n",
    "    print(*f.readlines())"
   ]
  },
  {
   "cell_type": "markdown",
   "metadata": {},
   "source": [
    "# generate and compile (-MD)\n",
    "\n",
    "Till now we only generated the dependency not compile."
   ]
  },
  {
   "cell_type": "code",
   "execution_count": 12,
   "metadata": {},
   "outputs": [
    {
     "name": "stdout",
     "output_type": "stream",
     "text": [
      "-rw-r--r-- 1 root root   87 Feb  5 14:17 dummy1.cc\n",
      "-rw-r--r-- 1 root root 7.8K Feb  5 14:17 dummy1.pic.d\n",
      "-rw-r--r-- 1 root root   20 Feb  5 14:17 dummy1_ns.pic.d\n"
     ]
    },
    {
     "data": {
      "text/plain": [
       "CompletedProcess(args=['ls -lha . | grep dummy1'], returncode=0)"
      ]
     },
     "execution_count": 12,
     "metadata": {},
     "output_type": "execute_result"
    }
   ],
   "source": [
    "subprocess.run([\"ls -lha . | grep dummy1\"],shell=True)"
   ]
  },
  {
   "cell_type": "code",
   "execution_count": 13,
   "metadata": {},
   "outputs": [
    {
     "name": "stdout",
     "output_type": "stream",
     "text": [
      "✅Generated Dependency Succeed \n"
     ]
    }
   ],
   "source": [
    "gen_depend_ns_and_compile = subprocess.run(shlex.split(\"g++ -MD dummy1.cc -o dummy1.o\"),check=True)\n",
    "print_message(gen_depend_ns_and_compile,\"Generated Dependency Succeed\",\"Generated Dependency Failed\")"
   ]
  },
  {
   "cell_type": "code",
   "execution_count": 14,
   "metadata": {},
   "outputs": [
    {
     "name": "stdout",
     "output_type": "stream",
     "text": [
      "-rw-r--r-- 1 root root   87 Feb  5 14:17 dummy1.cc\n",
      "-rw-r--r-- 1 root root 7.8K Feb  5 14:17 dummy1.d\n",
      "-rwxr-xr-x 1 root root  17K Feb  5 14:17 dummy1.o\n",
      "-rw-r--r-- 1 root root 7.8K Feb  5 14:17 dummy1.pic.d\n",
      "-rw-r--r-- 1 root root   20 Feb  5 14:17 dummy1_ns.pic.d\n"
     ]
    },
    {
     "data": {
      "text/plain": [
       "CompletedProcess(args=['ls -lha . | grep dummy1'], returncode=0)"
      ]
     },
     "execution_count": 14,
     "metadata": {},
     "output_type": "execute_result"
    }
   ],
   "source": [
    "subprocess.run([\"ls -lha . | grep dummy1\"],shell=True)"
   ]
  },
  {
   "cell_type": "code",
   "execution_count": 15,
   "metadata": {},
   "outputs": [],
   "source": [
    "delete_generated_files()"
   ]
  }
 ],
 "metadata": {
  "kernelspec": {
   "display_name": "build",
   "language": "python",
   "name": "python3"
  },
  "language_info": {
   "codemirror_mode": {
    "name": "ipython",
    "version": 3
   },
   "file_extension": ".py",
   "mimetype": "text/x-python",
   "name": "python",
   "nbconvert_exporter": "python",
   "pygments_lexer": "ipython3",
   "version": "3.10.13"
  }
 },
 "nbformat": 4,
 "nbformat_minor": 2
}
