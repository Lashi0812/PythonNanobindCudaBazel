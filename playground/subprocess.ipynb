{
 "cells": [
  {
   "cell_type": "markdown",
   "metadata": {},
   "source": [
    "# Subprocess"
   ]
  },
  {
   "cell_type": "markdown",
   "metadata": {},
   "source": [
    "## run()"
   ]
  },
  {
   "cell_type": "code",
   "execution_count": 2,
   "metadata": {},
   "outputs": [
    {
     "name": "stdout",
     "output_type": "stream",
     "text": [
      "Writing timer.py\n"
     ]
    }
   ],
   "source": [
    "%%writefile timer.py\n",
    "from argparse import ArgumentParser\n",
    "from time import sleep\n",
    "\n",
    "parser = ArgumentParser()\n",
    "parser.add_argument(\"time\",type=int)\n",
    "args = parser.parse_args()\n",
    "print(f\"Starting timer of {args.time} seconds\")\n",
    "for _ in range(args.time):\n",
    "    print(\".\",end=\"\",flush=True)\n",
    "    sleep(1)\n",
    "print(\"Done!\")"
   ]
  },
  {
   "cell_type": "code",
   "execution_count": 3,
   "metadata": {},
   "outputs": [
    {
     "name": "stdout",
     "output_type": "stream",
     "text": [
      "Starting timer of 5 seconds\n",
      ".....Done!\n"
     ]
    }
   ],
   "source": [
    "!python timer.py 5"
   ]
  },
  {
   "cell_type": "code",
   "execution_count": 6,
   "metadata": {},
   "outputs": [
    {
     "name": "stdout",
     "output_type": "stream",
     "text": [
      "Starting timer of 5 seconds\n",
      ".....Done!\n"
     ]
    },
    {
     "data": {
      "text/plain": [
       "CompletedProcess(args=['python', 'timer.py', '5'], returncode=0)"
      ]
     },
     "execution_count": 6,
     "metadata": {},
     "output_type": "execute_result"
    }
   ],
   "source": [
    "import subprocess\n",
    "subprocess.run(\"python timer.py 5\".split())"
   ]
  },
  {
   "cell_type": "code",
   "execution_count": 7,
   "metadata": {},
   "outputs": [
    {
     "name": "stdout",
     "output_type": "stream",
     "text": [
      "Starting timer of 5 seconds\n",
      ".....Done!\n"
     ]
    },
    {
     "data": {
      "text/plain": [
       "CompletedProcess(args=['python', 'timer.py', '5'], returncode=0)"
      ]
     },
     "execution_count": 7,
     "metadata": {},
     "output_type": "execute_result"
    }
   ],
   "source": [
    "import shlex\n",
    "subprocess.run(shlex.split(\"python timer.py 5\"))\n"
   ]
  },
  {
   "cell_type": "code",
   "execution_count": 8,
   "metadata": {},
   "outputs": [
    {
     "data": {
      "text/plain": [
       "['echo', 'hello ,world!']"
      ]
     },
     "execution_count": 8,
     "metadata": {},
     "output_type": "execute_result"
    }
   ],
   "source": [
    "shlex.split(\"echo 'hello ,world!'\")"
   ]
  },
  {
   "cell_type": "code",
   "execution_count": 9,
   "metadata": {},
   "outputs": [
    {
     "name": "stdout",
     "output_type": "stream",
     "text": [
      "Mon Feb  5 10:23:09 2024       \n",
      "+---------------------------------------------------------------------------------------+\n",
      "| NVIDIA-SMI 545.23.08              Driver Version: 545.23.08    CUDA Version: 12.3     |\n",
      "|-----------------------------------------+----------------------+----------------------+\n",
      "| GPU  Name                 Persistence-M | Bus-Id        Disp.A | Volatile Uncorr. ECC |\n",
      "| Fan  Temp   Perf          Pwr:Usage/Cap |         Memory-Usage | GPU-Util  Compute M. |\n",
      "|                                         |                      |               MIG M. |\n",
      "|=========================================+======================+======================|\n",
      "|   0  NVIDIA GeForce RTX 4090        On  | 00000000:01:00.0  On |                  Off |\n",
      "|  0%   41C    P8              16W / 450W |    585MiB / 24564MiB |      0%      Default |\n",
      "|                                         |                      |                  N/A |\n",
      "+-----------------------------------------+----------------------+----------------------+\n",
      "                                                                                         \n",
      "+---------------------------------------------------------------------------------------+\n",
      "| Processes:                                                                            |\n",
      "|  GPU   GI   CI        PID   Type   Process name                            GPU Memory |\n",
      "|        ID   ID                                                             Usage      |\n",
      "|=======================================================================================|\n",
      "+---------------------------------------------------------------------------------------+\n"
     ]
    },
    {
     "data": {
      "text/plain": [
       "CompletedProcess(args=['nvidia-smi'], returncode=0)"
      ]
     },
     "execution_count": 9,
     "metadata": {},
     "output_type": "execute_result"
    }
   ],
   "source": [
    "subprocess.run(shlex.split(\"nvidia-smi\"))"
   ]
  },
  {
   "cell_type": "code",
   "execution_count": 10,
   "metadata": {},
   "outputs": [
    {
     "data": {
      "text/plain": [
       "CompletedProcess(args=['code', '.'], returncode=0)"
      ]
     },
     "execution_count": 10,
     "metadata": {},
     "output_type": "execute_result"
    }
   ],
   "source": [
    "subprocess.run(shlex.split(\"code .\"))"
   ]
  },
  {
   "cell_type": "markdown",
   "metadata": {},
   "source": [
    "## CompletedProcess"
   ]
  },
  {
   "cell_type": "code",
   "execution_count": 12,
   "metadata": {},
   "outputs": [
    {
     "name": "stderr",
     "output_type": "stream",
     "text": [
      "usage: timer.py [-h] time\n",
      "timer.py: error: the following arguments are required: time\n"
     ]
    }
   ],
   "source": [
    "complete_process = subprocess.run(shlex.split(\"python timer.py\"))"
   ]
  },
  {
   "cell_type": "code",
   "execution_count": 13,
   "metadata": {},
   "outputs": [
    {
     "data": {
      "text/plain": [
       "subprocess.CompletedProcess"
      ]
     },
     "execution_count": 13,
     "metadata": {},
     "output_type": "execute_result"
    }
   ],
   "source": [
    "type(complete_process)"
   ]
  },
  {
   "cell_type": "code",
   "execution_count": 16,
   "metadata": {},
   "outputs": [
    {
     "name": "stdout",
     "output_type": "stream",
     "text": [
      "Help on CompletedProcess in module subprocess object:\n",
      "\n",
      "class CompletedProcess(builtins.object)\n",
      " |  CompletedProcess(args, returncode, stdout=None, stderr=None)\n",
      " |  \n",
      " |  A process that has finished running.\n",
      " |  \n",
      " |  This is returned by run().\n",
      " |  \n",
      " |  Attributes:\n",
      " |    args: The list or str args passed to run().\n",
      " |    returncode: The exit code of the process, negative for signals.\n",
      " |    stdout: The standard output (None if not captured).\n",
      " |    stderr: The standard error (None if not captured).\n",
      " |  \n",
      " |  Methods defined here:\n",
      " |  \n",
      " |  __init__(self, args, returncode, stdout=None, stderr=None)\n",
      " |      Initialize self.  See help(type(self)) for accurate signature.\n",
      " |  \n",
      " |  __repr__(self)\n",
      " |      Return repr(self).\n",
      " |  \n",
      " |  check_returncode(self)\n",
      " |      Raise CalledProcessError if the exit code is non-zero.\n",
      " |  \n",
      " |  ----------------------------------------------------------------------\n",
      " |  Class methods defined here:\n",
      " |  \n",
      " |  __class_getitem__ = GenericAlias(...) from builtins.type\n",
      " |      Represent a PEP 585 generic type\n",
      " |      \n",
      " |      E.g. for t = list[int], t.__origin__ is list and t.__args__ is (int,).\n",
      " |  \n",
      " |  ----------------------------------------------------------------------\n",
      " |  Data descriptors defined here:\n",
      " |  \n",
      " |  __dict__\n",
      " |      dictionary for instance variables (if defined)\n",
      " |  \n",
      " |  __weakref__\n",
      " |      list of weak references to the object (if defined)\n",
      "\n"
     ]
    }
   ],
   "source": [
    "help(complete_process)"
   ]
  },
  {
   "cell_type": "code",
   "execution_count": 17,
   "metadata": {},
   "outputs": [
    {
     "data": {
      "text/plain": [
       "['python', 'timer.py']"
      ]
     },
     "execution_count": 17,
     "metadata": {},
     "output_type": "execute_result"
    }
   ],
   "source": [
    "complete_process.args"
   ]
  },
  {
   "cell_type": "code",
   "execution_count": 18,
   "metadata": {},
   "outputs": [
    {
     "data": {
      "text/plain": [
       "2"
      ]
     },
     "execution_count": 18,
     "metadata": {},
     "output_type": "execute_result"
    }
   ],
   "source": [
    "complete_process.returncode"
   ]
  },
  {
   "cell_type": "markdown",
   "metadata": {},
   "source": [
    "## raise error (check=True)"
   ]
  },
  {
   "cell_type": "code",
   "execution_count": 29,
   "metadata": {},
   "outputs": [
    {
     "name": "stdout",
     "output_type": "stream",
     "text": [
      "🚨🚨🚨Failed due to CalledProcessError 🚨🚨🚨\n",
      "Command '['python', 'timer.py']' returned non-zero exit status 2.\n"
     ]
    },
    {
     "name": "stderr",
     "output_type": "stream",
     "text": [
      "usage: timer.py [-h] time\n",
      "timer.py: error: the following arguments are required: time\n"
     ]
    }
   ],
   "source": [
    "try:\n",
    "    subprocess.run(shlex.split(\"python timer.py\"),check=True)\n",
    "except subprocess.CalledProcessError as e:\n",
    "    print(f\"🚨🚨🚨Failed due to CalledProcessError 🚨🚨🚨\\n{e}\")"
   ]
  },
  {
   "cell_type": "markdown",
   "metadata": {},
   "source": [
    "## TimeoutExpired"
   ]
  },
  {
   "cell_type": "code",
   "execution_count": 32,
   "metadata": {},
   "outputs": [
    {
     "name": "stdout",
     "output_type": "stream",
     "text": [
      "Starting timer of 5 seconds\n",
      ".🚨🚨🚨Failed due to TimeoutExpired 🚨🚨🚨\n",
      "Command '['python', 'timer.py', '5']' timed out after 0.9999851330030651 seconds\n"
     ]
    }
   ],
   "source": [
    "try:\n",
    "    subprocess.run(shlex.split(\"python timer.py 5\"),timeout=1)\n",
    "except subprocess.TimeoutExpired as e:\n",
    "    print(f\"🚨🚨🚨Failed due to TimeoutExpired 🚨🚨🚨\\n{e}\")"
   ]
  },
  {
   "cell_type": "markdown",
   "metadata": {},
   "source": [
    "## FileNotFound Error"
   ]
  },
  {
   "cell_type": "code",
   "execution_count": 34,
   "metadata": {},
   "outputs": [
    {
     "name": "stdout",
     "output_type": "stream",
     "text": [
      "🚨🚨🚨Failed due to FileNotFoundError 🚨🚨🚨\n",
      "[Errno 2] No such file or directory: 'searching file'\n"
     ]
    }
   ],
   "source": [
    "try:\n",
    "    subprocess.run([\"searching file\"])\n",
    "except FileNotFoundError as e:\n",
    "    print(f\"🚨🚨🚨Failed due to FileNotFoundError 🚨🚨🚨\\n{e}\")"
   ]
  },
  {
   "cell_type": "markdown",
   "metadata": {},
   "source": [
    "## Using with shell"
   ]
  },
  {
   "cell_type": "code",
   "execution_count": 37,
   "metadata": {},
   "outputs": [
    {
     "name": "stdout",
     "output_type": "stream",
     "text": [
      "pydoc3\n",
      "pydoc3.10\n"
     ]
    },
    {
     "data": {
      "text/plain": [
       "CompletedProcess(args=['zsh', '-c', 'ls /usr/bin | grep pydoc'], returncode=0)"
      ]
     },
     "execution_count": 37,
     "metadata": {},
     "output_type": "execute_result"
    }
   ],
   "source": [
    "subprocess.run(shlex.split(\"zsh -c 'ls /usr/bin | grep pydoc'\"))"
   ]
  },
  {
   "cell_type": "code",
   "execution_count": 40,
   "metadata": {},
   "outputs": [
    {
     "name": "stdout",
     "output_type": "stream",
     "text": [
      "pydoc3\n",
      "pydoc3.10\n"
     ]
    },
    {
     "data": {
      "text/plain": [
       "CompletedProcess(args=['ls /usr/bin | grep pydoc'], returncode=0)"
      ]
     },
     "execution_count": 40,
     "metadata": {},
     "output_type": "execute_result"
    }
   ],
   "source": [
    "subprocess.run([\"ls /usr/bin | grep pydoc\"],shell=True)"
   ]
  },
  {
   "cell_type": "markdown",
   "metadata": {},
   "source": [
    "## capture_output"
   ]
  },
  {
   "cell_type": "code",
   "execution_count": 42,
   "metadata": {},
   "outputs": [
    {
     "name": "stdout",
     "output_type": "stream",
     "text": [
      "Writing magic_number.py\n"
     ]
    }
   ],
   "source": [
    "%%writefile magic_number.py\n",
    "from random import randint\n",
    "print(randint(0,1000))"
   ]
  },
  {
   "cell_type": "code",
   "execution_count": 43,
   "metadata": {},
   "outputs": [],
   "source": [
    "magic_number_process = subprocess.run([\"python\",\"magic_number.py\"],\n",
    "                                      capture_output=True)"
   ]
  },
  {
   "cell_type": "code",
   "execution_count": 47,
   "metadata": {},
   "outputs": [
    {
     "data": {
      "text/plain": [
       "b'101\\n'"
      ]
     },
     "execution_count": 47,
     "metadata": {},
     "output_type": "execute_result"
    }
   ],
   "source": [
    "magic_number_process.stdout"
   ]
  },
  {
   "cell_type": "code",
   "execution_count": 49,
   "metadata": {},
   "outputs": [
    {
     "data": {
      "text/plain": [
       "592"
      ]
     },
     "execution_count": 49,
     "metadata": {},
     "output_type": "execute_result"
    }
   ],
   "source": [
    "sum(int(subprocess.run([\"python\",\"magic_number.py\"],capture_output=True).stdout) \n",
    "    for _ in range(2))"
   ]
  },
  {
   "cell_type": "code",
   "execution_count": 50,
   "metadata": {},
   "outputs": [
    {
     "name": "stdout",
     "output_type": "stream",
     "text": [
      "Writing reaction_game.py\n"
     ]
    }
   ],
   "source": [
    "%%writefile reaction_game.py\n",
    "\n",
    "from time import perf_counter, sleep\n",
    "from random import random\n",
    "\n",
    "print(\"Press enter to play\")\n",
    "input()\n",
    "print(\"Ok, get ready!\")\n",
    "sleep(random() * 5 + 1)\n",
    "print(\"go!\")\n",
    "start = perf_counter()\n",
    "input()\n",
    "end = perf_counter()\n",
    "print(f\"You reacted in {(end - start) * 1000:.0f} milliseconds!\\nGoodbye!\")"
   ]
  },
  {
   "cell_type": "code",
   "execution_count": 52,
   "metadata": {},
   "outputs": [
    {
     "name": "stdout",
     "output_type": "stream",
     "text": [
      "Press enter to play\n",
      "Ok, get ready!\n",
      "go!\n",
      "You reacted in 0 milliseconds!\n",
      "Goodbye!\n"
     ]
    }
   ],
   "source": [
    "process = subprocess.run(\n",
    "     [\"python\", \"reaction_game.py\"],input='\\n\\n', encoding=\"utf-8\"\n",
    " )"
   ]
  },
  {
   "cell_type": "code",
   "execution_count": null,
   "metadata": {},
   "outputs": [],
   "source": []
  }
 ],
 "metadata": {
  "kernelspec": {
   "display_name": "build",
   "language": "python",
   "name": "python3"
  },
  "language_info": {
   "codemirror_mode": {
    "name": "ipython",
    "version": 3
   },
   "file_extension": ".py",
   "mimetype": "text/x-python",
   "name": "python",
   "nbconvert_exporter": "python",
   "pygments_lexer": "ipython3",
   "version": "3.10.13"
  }
 },
 "nbformat": 4,
 "nbformat_minor": 2
}
