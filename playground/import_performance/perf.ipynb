{
 "cells": [
  {
   "cell_type": "code",
   "execution_count": 26,
   "metadata": {},
   "outputs": [],
   "source": [
    "import dis\n",
    "import timeit\n",
    "import sys\n",
    "import importlib\n",
    "import subprocess\n",
    "import collections\n",
    "import numpy as np"
   ]
  },
  {
   "cell_type": "code",
   "execution_count": 2,
   "metadata": {},
   "outputs": [
    {
     "name": "stdout",
     "output_type": "stream",
     "text": [
      "Collecting matplotlib\n",
      "  Using cached matplotlib-3.8.2-cp310-cp310-manylinux_2_17_x86_64.manylinux2014_x86_64.whl.metadata (5.8 kB)\n",
      "Requirement already satisfied: contourpy>=1.0.1 in /root/miniconda3/envs/build/lib/python3.10/site-packages (from matplotlib) (1.2.0)\n",
      "Requirement already satisfied: cycler>=0.10 in /root/miniconda3/envs/build/lib/python3.10/site-packages (from matplotlib) (0.12.1)\n",
      "Requirement already satisfied: fonttools>=4.22.0 in /root/miniconda3/envs/build/lib/python3.10/site-packages (from matplotlib) (4.48.1)\n",
      "Requirement already satisfied: kiwisolver>=1.3.1 in /root/miniconda3/envs/build/lib/python3.10/site-packages (from matplotlib) (1.4.5)\n",
      "Requirement already satisfied: numpy<2,>=1.21 in /root/miniconda3/envs/build/lib/python3.10/site-packages (from matplotlib) (1.26.3)\n",
      "Requirement already satisfied: packaging>=20.0 in /root/miniconda3/envs/build/lib/python3.10/site-packages (from matplotlib) (23.1)\n",
      "Requirement already satisfied: pillow>=8 in /root/miniconda3/envs/build/lib/python3.10/site-packages (from matplotlib) (10.2.0)\n",
      "Requirement already satisfied: pyparsing>=2.3.1 in /root/miniconda3/envs/build/lib/python3.10/site-packages (from matplotlib) (3.1.1)\n",
      "Requirement already satisfied: python-dateutil>=2.7 in /root/miniconda3/envs/build/lib/python3.10/site-packages (from matplotlib) (2.8.2)\n",
      "Requirement already satisfied: six>=1.5 in /root/miniconda3/envs/build/lib/python3.10/site-packages (from python-dateutil>=2.7->matplotlib) (1.16.0)\n",
      "Using cached matplotlib-3.8.2-cp310-cp310-manylinux_2_17_x86_64.manylinux2014_x86_64.whl (11.6 MB)\n",
      "Installing collected packages: matplotlib\n",
      "Successfully installed matplotlib-3.8.2\n"
     ]
    },
    {
     "name": "stderr",
     "output_type": "stream",
     "text": [
      "\u001b[33mWARNING: Running pip as the 'root' user can result in broken permissions and conflicting behaviour with the system package manager. It is recommended to use a virtual environment instead: https://pip.pypa.io/warnings/venv\u001b[0m\u001b[33m\n",
      "\u001b[0m"
     ]
    }
   ],
   "source": [
    "if importlib.util.find_spec(\"matplotlib\"):\n",
    "    import matplotlib.pyplot as plt\n",
    "else:\n",
    "    try:\n",
    "        subprocess.run([sys.executable,\"-m\",\"pip\",\"install\",\"matplotlib\"])\n",
    "        import matplotlib.pyplot as plt\n",
    "    except subprocess.CalledProcessError:\n",
    "        print(\"Please install manually\")"
   ]
  },
  {
   "cell_type": "code",
   "execution_count": 3,
   "metadata": {},
   "outputs": [],
   "source": [
    "def f1(times):\n",
    "    import pathlib\n",
    "    for _ in range(times):\n",
    "        _ = pathlib.Path(\"\")\n",
    "\n",
    "def f2(times):\n",
    "    from pathlib import Path\n",
    "    for _ in range(times):\n",
    "        _ = Path(\"\")"
   ]
  },
  {
   "cell_type": "code",
   "execution_count": 4,
   "metadata": {},
   "outputs": [
    {
     "data": {
      "text/plain": [
       "6.078258081999593"
      ]
     },
     "execution_count": 4,
     "metadata": {},
     "output_type": "execute_result"
    }
   ],
   "source": [
    "setup_code = \"\"\"\n",
    "from __main__ import f1\n",
    "\"\"\"\n",
    "code_to_time = \"\"\"\n",
    "f1(10_000_000)\n",
    "\"\"\"\n",
    "execution_time = timeit.timeit(stmt=code_to_time,setup=setup_code,number=1)\n",
    "execution_time"
   ]
  },
  {
   "cell_type": "code",
   "execution_count": 5,
   "metadata": {},
   "outputs": [
    {
     "data": {
      "text/plain": [
       "6.2021419319989946"
      ]
     },
     "execution_count": 5,
     "metadata": {},
     "output_type": "execute_result"
    }
   ],
   "source": [
    "execution_time = timeit.timeit(\"f1(10_000_000)\",globals=globals(),number=1)\n",
    "execution_time"
   ]
  },
  {
   "cell_type": "code",
   "execution_count": 6,
   "metadata": {},
   "outputs": [
    {
     "data": {
      "text/plain": [
       "5.892960495000807"
      ]
     },
     "execution_count": 6,
     "metadata": {},
     "output_type": "execute_result"
    }
   ],
   "source": [
    "setup_code = \"\"\"\n",
    "from __main__ import f2\n",
    "\"\"\"\n",
    "code_to_time = \"\"\"\n",
    "f2(10_000_000)\n",
    "\"\"\"\n",
    "execution_time = timeit.timeit(stmt=code_to_time,setup=setup_code,number=1)\n",
    "execution_time"
   ]
  },
  {
   "cell_type": "code",
   "execution_count": 7,
   "metadata": {},
   "outputs": [
    {
     "data": {
      "text/plain": [
       "5.770854760001384"
      ]
     },
     "execution_count": 7,
     "metadata": {},
     "output_type": "execute_result"
    }
   ],
   "source": [
    "execution_time = timeit.timeit(\"f2(10_000_000)\",globals=globals(),number=1)\n",
    "execution_time"
   ]
  },
  {
   "cell_type": "code",
   "execution_count": 8,
   "metadata": {},
   "outputs": [
    {
     "name": "stdout",
     "output_type": "stream",
     "text": [
      "  2           0 LOAD_CONST               1 (0)\n",
      "              2 LOAD_CONST               0 (None)\n",
      "              4 IMPORT_NAME              0 (pathlib)\n",
      "              6 STORE_FAST               1 (pathlib)\n",
      "\n",
      "  3           8 LOAD_GLOBAL              1 (range)\n",
      "             10 LOAD_FAST                0 (times)\n",
      "             12 CALL_FUNCTION            1\n",
      "             14 GET_ITER\n",
      "        >>   16 FOR_ITER                 7 (to 32)\n",
      "             18 STORE_FAST               2 (_)\n",
      "\n",
      "  4          20 LOAD_FAST                1 (pathlib)\n",
      "             22 LOAD_METHOD              2 (Path)\n",
      "             24 LOAD_CONST               2 ('')\n",
      "             26 CALL_METHOD              1\n",
      "             28 STORE_FAST               2 (_)\n",
      "             30 JUMP_ABSOLUTE            8 (to 16)\n",
      "\n",
      "  3     >>   32 LOAD_CONST               0 (None)\n",
      "             34 RETURN_VALUE\n"
     ]
    }
   ],
   "source": [
    "dis.dis(f1)"
   ]
  },
  {
   "cell_type": "code",
   "execution_count": 9,
   "metadata": {},
   "outputs": [
    {
     "name": "stdout",
     "output_type": "stream",
     "text": [
      "  7           0 LOAD_CONST               1 (0)\n",
      "              2 LOAD_CONST               2 (('Path',))\n",
      "              4 IMPORT_NAME              0 (pathlib)\n",
      "              6 IMPORT_FROM              1 (Path)\n",
      "              8 STORE_FAST               1 (Path)\n",
      "             10 POP_TOP\n",
      "\n",
      "  8          12 LOAD_GLOBAL              2 (range)\n",
      "             14 LOAD_FAST                0 (times)\n",
      "             16 CALL_FUNCTION            1\n",
      "             18 GET_ITER\n",
      "        >>   20 FOR_ITER                 6 (to 34)\n",
      "             22 STORE_FAST               2 (_)\n",
      "\n",
      "  9          24 LOAD_FAST                1 (Path)\n",
      "             26 LOAD_CONST               3 ('')\n",
      "             28 CALL_FUNCTION            1\n",
      "             30 STORE_FAST               2 (_)\n",
      "             32 JUMP_ABSOLUTE           10 (to 20)\n",
      "\n",
      "  8     >>   34 LOAD_CONST               0 (None)\n",
      "             36 RETURN_VALUE\n"
     ]
    }
   ],
   "source": [
    "dis.dis(f2)"
   ]
  },
  {
   "cell_type": "code",
   "execution_count": 10,
   "metadata": {},
   "outputs": [
    {
     "data": {
      "text/plain": [
       "0.006184060001032776"
      ]
     },
     "execution_count": 10,
     "metadata": {},
     "output_type": "execute_result"
    }
   ],
   "source": [
    "setup_code = \"\"\"\n",
    "from __main__ import f1\n",
    "\"\"\"\n",
    "code_to_time = \"\"\"\n",
    "f1(10_000)\n",
    "\"\"\"\n",
    "execution_time = timeit.timeit(stmt=code_to_time,setup=setup_code,number=1)\n",
    "execution_time"
   ]
  },
  {
   "cell_type": "code",
   "execution_count": 11,
   "metadata": {},
   "outputs": [
    {
     "data": {
      "text/plain": [
       "0.0062321900004462805"
      ]
     },
     "execution_count": 11,
     "metadata": {},
     "output_type": "execute_result"
    }
   ],
   "source": [
    "execution_time = timeit.timeit(\"f1(10_000)\",globals=globals(),number=1)\n",
    "execution_time"
   ]
  },
  {
   "cell_type": "code",
   "execution_count": 12,
   "metadata": {},
   "outputs": [
    {
     "data": {
      "text/plain": [
       "0.0059319520005374216"
      ]
     },
     "execution_count": 12,
     "metadata": {},
     "output_type": "execute_result"
    }
   ],
   "source": [
    "setup_code = \"\"\"\n",
    "from __main__ import f2\n",
    "\"\"\"\n",
    "code_to_time = \"\"\"\n",
    "f2(10_000)\n",
    "\"\"\"\n",
    "execution_time = timeit.timeit(stmt=code_to_time,setup=setup_code,number=1)\n",
    "execution_time"
   ]
  },
  {
   "cell_type": "code",
   "execution_count": 13,
   "metadata": {},
   "outputs": [
    {
     "data": {
      "text/plain": [
       "0.006470928999988246"
      ]
     },
     "execution_count": 13,
     "metadata": {},
     "output_type": "execute_result"
    }
   ],
   "source": [
    "execution_time = timeit.timeit(\"f2(10_000)\",globals=globals(),number=1)\n",
    "execution_time"
   ]
  },
  {
   "cell_type": "code",
   "execution_count": 14,
   "metadata": {},
   "outputs": [
    {
     "name": "stdout",
     "output_type": "stream",
     "text": [
      "26 µs ± 0 ns per loop (mean ± std. dev. of 1 run, 1 loop each)\n"
     ]
    }
   ],
   "source": [
    "%%timeit -n 1 -r 1\n",
    "f1(10)"
   ]
  },
  {
   "cell_type": "code",
   "execution_count": 15,
   "metadata": {},
   "outputs": [
    {
     "name": "stdout",
     "output_type": "stream",
     "text": [
      "24.1 µs ± 0 ns per loop (mean ± std. dev. of 1 run, 1 loop each)\n"
     ]
    }
   ],
   "source": [
    "%%timeit -n 1 -r 1\n",
    "f2(10)"
   ]
  },
  {
   "cell_type": "code",
   "execution_count": 16,
   "metadata": {},
   "outputs": [
    {
     "name": "stdout",
     "output_type": "stream",
     "text": [
      "[     1.     10.    100.   1000.  10000. 100000.]\n"
     ]
    }
   ],
   "source": [
    "with np.printoptions(suppress=True):\n",
    "    print(np.logspace(0,5,6))"
   ]
  },
  {
   "cell_type": "code",
   "execution_count": 25,
   "metadata": {},
   "outputs": [],
   "source": [
    "time_dict = collections.defaultdict(list)\n",
    "params = np.logspace(0,7,8,dtype=int)\n",
    "funcs = [f1,f2]\n",
    "\n",
    "\n",
    "for func in funcs:\n",
    "    for p in params:\n",
    "        time_dict[func.__qualname__].append(np.mean(timeit.repeat(f\"{func.__qualname__}({p})\",globals=globals(),number=1,repeat=7)))\n"
   ]
  },
  {
   "cell_type": "code",
   "execution_count": 27,
   "metadata": {},
   "outputs": [
    {
     "data": {
      "text/plain": [
       "defaultdict(list,\n",
       "            {'f1': [2.7041431686874214e-06,\n",
       "              8.031571269384585e-06,\n",
       "              5.7908428841203984e-05,\n",
       "              0.00058012471397108,\n",
       "              0.005996122857011089,\n",
       "              0.06197035742895553,\n",
       "              0.6210901220004287,\n",
       "              6.147757106285748],\n",
       "             'f2': [2.166142491790067e-06,\n",
       "              7.3880000854842365e-06,\n",
       "              6.262128616591716e-05,\n",
       "              0.0006152258566934117,\n",
       "              0.005994997000016156,\n",
       "              0.06064950742776481,\n",
       "              0.5974411302860452,\n",
       "              5.834071180714351]})"
      ]
     },
     "execution_count": 27,
     "metadata": {},
     "output_type": "execute_result"
    }
   ],
   "source": [
    "time_dict"
   ]
  },
  {
   "cell_type": "code",
   "execution_count": 33,
   "metadata": {},
   "outputs": [
    {
     "data": {
      "image/png": "[encoded data removed]",
      "text/plain": [
       "<Figure size 640x480 with 1 Axes>"
      ]
     },
     "metadata": {},
     "output_type": "display_data"
    }
   ],
   "source": [
    "\n",
    "plt.plot(params, time_dict[f1.__qualname__], label='Using Import')\n",
    "plt.plot(params, time_dict[f2.__qualname__], label='Using From')\n",
    "plt.xlabel('Number of times')\n",
    "plt.ylabel('Execution Time (s)')\n",
    "plt.xscale(\"log\")\n",
    "plt.yscale(\"log\")\n",
    "plt.title('Execution Time of Functions A and B')\n",
    "plt.legend()\n",
    "plt.show()"
   ]
  },
  {
   "cell_type": "code",
   "execution_count": null,
   "metadata": {},
   "outputs": [],
   "source": []
  }
 ],
 "metadata": {
  "kernelspec": {
   "display_name": "build",
   "language": "python",
   "name": "python3"
  },
  "language_info": {
   "codemirror_mode": {
    "name": "ipython",
    "version": 3
   },
   "file_extension": ".py",
   "mimetype": "text/x-python",
   "name": "python",
   "nbconvert_exporter": "python",
   "pygments_lexer": "ipython3",
   "version": "3.10.13"
  }
 },
 "nbformat": 4,
 "nbformat_minor": 2
}
