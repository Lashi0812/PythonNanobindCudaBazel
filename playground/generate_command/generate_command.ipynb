{
 "cells": [
  {
   "cell_type": "code",
   "execution_count": 1,
   "metadata": {},
   "outputs": [],
   "source": [
    "argv = [\n",
    "      \"external/local_config_cuda/crosstool/clang/bin/crosstool_wrapper_driver_is_not_gcc\",\n",
    "      \"-MD\",\n",
    "      \"-MF\",\n",
    "      \"bazel-out/k8-fastbuild/bin/ext/_objs/ext.so/ext.cu.pic.d\",\n",
    "      \"-frandom-seed=bazel-out/k8-fastbuild/bin/ext/_objs/ext.so/ext.cu.pic.o\",\n",
    "      \"-DBAZEL_CURRENT_REPOSITORY=\\\"\\\"\",\n",
    "      \"-iquote\",\n",
    "      \".\",\n",
    "      \"-iquote\",\n",
    "      \"bazel-out/k8-fastbuild/bin\",\n",
    "      \"-iquote\",\n",
    "      \"external/nanobind\",\n",
    "      \"-iquote\",\n",
    "      \"bazel-out/k8-fastbuild/bin/external/nanobind\",\n",
    "      \"-iquote\",\n",
    "      \"external/robin_map\",\n",
    "      \"-iquote\",\n",
    "      \"bazel-out/k8-fastbuild/bin/external/robin_map\",\n",
    "      \"-iquote\",\n",
    "      \"external/local_config_python\",\n",
    "      \"-iquote\",\n",
    "      \"bazel-out/k8-fastbuild/bin/external/local_config_python\",\n",
    "      \"-iquote\",\n",
    "      \"external/local_config_cuda\",\n",
    "      \"-iquote\",\n",
    "      \"bazel-out/k8-fastbuild/bin/external/local_config_cuda\",\n",
    "      \"-Ibazel-out/k8-fastbuild/bin/external/robin_map/_virtual_includes/robin_map\",\n",
    "      \"-isystem\",\n",
    "      \"external/nanobind/include\",\n",
    "      \"-isystem\",\n",
    "      \"bazel-out/k8-fastbuild/bin/external/nanobind/include\",\n",
    "      \"-isystem\",\n",
    "      \"external/robin_map\",\n",
    "      \"-isystem\",\n",
    "      \"bazel-out/k8-fastbuild/bin/external/robin_map\",\n",
    "      \"-isystem\",\n",
    "      \"external/local_config_python/python_include\",\n",
    "      \"-isystem\",\n",
    "      \"bazel-out/k8-fastbuild/bin/external/local_config_python/python_include\",\n",
    "      \"-Wno-builtin-macro-redefined\",\n",
    "      \"-D__DATE__=\\\"redacted\\\"\",\n",
    "      \"-D__TIMESTAMP__=\\\"redacted\\\"\",\n",
    "      \"-D__TIME__=\\\"redacted\\\"\",\n",
    "      \"-fPIC\",\n",
    "      \"-U_FORTIFY_SOURCE\",\n",
    "      \"-D_FORTIFY_SOURCE=1\",\n",
    "      \"-fstack-protector\",\n",
    "      \"-Wall\",\n",
    "      \"-fno-omit-frame-pointer\",\n",
    "      \"-no-canonical-prefixes\",\n",
    "      \"-fvisibility=hidden\",\n",
    "      \"-Wno-sign-compare\",\n",
    "      \"-std=c++17\",\n",
    "      \"-fexceptions\",\n",
    "      \"-fno-strict-aliasing\",\n",
    "      \"-nvcc_options\",\n",
    "      \"device-debug\",\n",
    "      \"-x\",\n",
    "      \"cuda\",\n",
    "      \"-DGOOGLE_CUDA=1\",\n",
    "      \"--cuda-gpu-arch=sm_80\",\n",
    "      \"-Xcuda-fatbinary=--compress-all\",\n",
    "      \"-nvcc_options=expt-relaxed-constexpr\",\n",
    "      \"-fno-strict-aliasing\",\n",
    "      \"-fexceptions\",\n",
    "      \"-fvisibility=hidden\",\n",
    "      \"-c\",\n",
    "      \"ext/ext.cu.cc\",\n",
    "      \"-o\",\n",
    "      \"bazel-out/k8-fastbuild/bin/ext/_objs/ext.so/ext.cu.pic.o\",\n",
    "      \"-generate_command\"\n",
    "    ]"
   ]
  },
  {
   "cell_type": "code",
   "execution_count": 2,
   "metadata": {},
   "outputs": [
    {
     "data": {
      "text/plain": [
       "['cuda']"
      ]
     },
     "execution_count": 2,
     "metadata": {},
     "output_type": "execute_result"
    }
   ],
   "source": [
    "from argparse import ArgumentParser\n",
    "\n",
    "def GetOptionValue(argv, option):\n",
    "  \"\"\"Extract the list of values for option from the argv list.\n",
    "\n",
    "  Args:\n",
    "    argv: A list of strings, possibly the argv passed to main().\n",
    "    option: The option whose value to extract, with the leading '-'.\n",
    "\n",
    "  Returns:\n",
    "    A list of values, either directly following the option,\n",
    "    (eg., -opt val1 val2) or values collected from multiple occurrences of\n",
    "    the option (eg., -opt val1 -opt val2).\n",
    "  \"\"\"\n",
    "\n",
    "  parser = ArgumentParser()\n",
    "  parser.add_argument(option, nargs='*', action='append')\n",
    "  option = option.lstrip('-').replace('-', '_')\n",
    "  args, _ = parser.parse_known_args(argv)\n",
    "  if not args or not vars(args)[option]:\n",
    "    return []\n",
    "  else:\n",
    "    return sum(vars(args)[option], [])\n",
    "  \n",
    "GetOptionValue(argv,\"-x\")"
   ]
  },
  {
   "cell_type": "code",
   "execution_count": 3,
   "metadata": {},
   "outputs": [],
   "source": [
    "NVCC_VERSION = \"12.1\"\n",
    "\n",
    "\n",
    "def _update_options(nvcc_options):\n",
    "    if NVCC_VERSION in (\"7.0\",):\n",
    "        return nvcc_options\n",
    "\n",
    "    update_options = {\"relaxed-constexpr\": \"expt-relaxed-constexpr\"}\n",
    "    return [\n",
    "        update_options[opt] if opt in update_options else opt for opt in nvcc_options\n",
    "    ]\n",
    "\n",
    "\n",
    "def GetNvccOptions(argv):\n",
    "    \"\"\"Collect the -nvcc_options values from argv.\n",
    "\n",
    "    Args:\n",
    "      argv: A list of strings, possibly the argv passed to main().\n",
    "\n",
    "    Returns:\n",
    "      The string that can be passed directly to nvcc.\n",
    "    \"\"\"\n",
    "\n",
    "    parser = ArgumentParser()\n",
    "    parser.add_argument(\"-nvcc_options\", nargs=\"*\", action=\"append\")\n",
    "\n",
    "    args, _ = parser.parse_known_args(argv)\n",
    "\n",
    "    if args.nvcc_options:\n",
    "        options = _update_options(sum(args.nvcc_options, []))\n",
    "        return \" \".join([\"--\" + a for a in options])\n",
    "    return \"\""
   ]
  },
  {
   "cell_type": "code",
   "execution_count": 4,
   "metadata": {},
   "outputs": [
    {
     "data": {
      "text/plain": [
       "'--device-debug --expt-relaxed-constexpr'"
      ]
     },
     "execution_count": 4,
     "metadata": {},
     "output_type": "execute_result"
    }
   ],
   "source": [
    "GetNvccOptions(argv)"
   ]
  },
  {
   "cell_type": "code",
   "execution_count": 33,
   "metadata": {},
   "outputs": [],
   "source": [
    "import subprocess\n",
    "\n",
    "\n",
    "out = subprocess.run([\"/workspaces/PythonNanobindCudaBazel/external/local_config_cuda/crosstool/clang/bin/crosstool_wrapper_driver_is_not_gcc\"]+argv,capture_output=True,encoding=\"utf-8\")"
   ]
  },
  {
   "cell_type": "code",
   "execution_count": 34,
   "metadata": {},
   "outputs": [
    {
     "data": {
      "text/plain": [
       "str"
      ]
     },
     "execution_count": 34,
     "metadata": {},
     "output_type": "execute_result"
    }
   ],
   "source": [
    "type(out.stdout)"
   ]
  },
  {
   "cell_type": "code",
   "execution_count": 35,
   "metadata": {},
   "outputs": [
    {
     "data": {
      "text/plain": [
       "''"
      ]
     },
     "execution_count": 35,
     "metadata": {},
     "output_type": "execute_result"
    }
   ],
   "source": [
    "out.stdout"
   ]
  },
  {
   "cell_type": "code",
   "execution_count": 36,
   "metadata": {},
   "outputs": [
    {
     "data": {
      "text/plain": [
       "1"
      ]
     },
     "execution_count": 36,
     "metadata": {},
     "output_type": "execute_result"
    }
   ],
   "source": [
    "out.returncode"
   ]
  },
  {
   "cell_type": "code",
   "execution_count": 37,
   "metadata": {},
   "outputs": [
    {
     "data": {
      "text/plain": [
       "'gcc: error: unrecognized debug output level ‘enerate_command’\\n'"
      ]
     },
     "execution_count": 37,
     "metadata": {},
     "output_type": "execute_result"
    }
   ],
   "source": [
    "out.stderr"
   ]
  },
  {
   "cell_type": "code",
   "execution_count": 38,
   "metadata": {},
   "outputs": [
    {
     "data": {
      "text/plain": [
       "['cuda']"
      ]
     },
     "execution_count": 38,
     "metadata": {},
     "output_type": "execute_result"
    }
   ],
   "source": [
    "GetOptionValue(argv,\"-x\")"
   ]
  },
  {
   "cell_type": "code",
   "execution_count": null,
   "metadata": {},
   "outputs": [],
   "source": []
  }
 ],
 "metadata": {
  "kernelspec": {
   "display_name": "build",
   "language": "python",
   "name": "python3"
  },
  "language_info": {
   "codemirror_mode": {
    "name": "ipython",
    "version": 3
   },
   "file_extension": ".py",
   "mimetype": "text/x-python",
   "name": "python",
   "nbconvert_exporter": "python",
   "pygments_lexer": "ipython3",
   "version": "3.10.13"
  }
 },
 "nbformat": 4,
 "nbformat_minor": 2
}
