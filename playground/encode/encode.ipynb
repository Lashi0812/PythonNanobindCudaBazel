{
 "cells": [
  {
   "cell_type": "code",
   "execution_count": 1,
   "metadata": {},
   "outputs": [
    {
     "name": "stdout",
     "output_type": "stream",
     "text": [
      "Writing return_text.py\n"
     ]
    }
   ],
   "source": [
    "%%writefile return_text.py\n",
    "text = \"\"\"/usr/local/cuda-12.1/bin/nvcc -D_FORCE_INLINES -gencode=arch=compute_80,\\\"code=sm_80\\\" --device-debug --expt-relaxed-constexpr -U_FORTIFY_SOURCE -D_FORTIFY_SOURCE=1 -DGOOGLE_CUDA=1 -std=c++17 --std c++17  --fatbin-options=--compress-all -allow-unsupported-compiler --expt-extended-lambda --expt-relaxed-constexpr  --compiler-options \" -isystem external/nanobind/include -isystem bazel-out/k8-fastbuild/bin/external/nanobind/include -isystem external/robin_map -isystem bazel-out/k8-fastbuild/bin/external/robin_map -isystem external/local_config_python/python_include -isystem bazel-out/k8-fastbuild/bin/external/local_config_python/python_include -iquote . -iquote bazel-out/k8-fastbuild/bin -iquote external/nanobind -iquote bazel-out/k8-fastbuild/bin/external/nanobind -iquote external/robin_map -iquote bazel-out/k8-fastbuild/bin/external/robin_map -iquote external/local_config_python -iquote bazel-out/k8-fastbuild/bin/external/local_config_python -iquote external/local_config_cuda -iquote bazel-out/k8-fastbuild/bin/external/local_config_cuda -fno-canonical-system-headers -no-canonical-prefixes  -fPIC\" --compiler-bindir=/usr/bin/gcc -I . -x cu  -g -I bazel-out/k8-fastbuild/bin/external/robin_map/_virtual_includes/robin_map -c ext/ext.cu.cc -o bazel-out/k8-fastbuild/bin/ext/_objs/ext.so/ext.cu.pic.o\"\"\"\n",
    "print(text)"
   ]
  },
  {
   "cell_type": "code",
   "execution_count": 3,
   "metadata": {},
   "outputs": [
    {
     "data": {
      "text/plain": [
       "'/usr/local/cuda-12.1/bin/nvcc -D_FORCE_INLINES -gencode=arch=compute_80,\"code=sm_80\" --device-debug --expt-relaxed-constexpr -U_FORTIFY_SOURCE -D_FORTIFY_SOURCE=1 -DGOOGLE_CUDA=1 -std=c++17 --std c++17  --fatbin-options=--compress-all -allow-unsupported-compiler --expt-extended-lambda --expt-relaxed-constexpr  --compiler-options \" -isystem external/nanobind/include -isystem bazel-out/k8-fastbuild/bin/external/nanobind/include -isystem external/robin_map -isystem bazel-out/k8-fastbuild/bin/external/robin_map -isystem external/local_config_python/python_include -isystem bazel-out/k8-fastbuild/bin/external/local_config_python/python_include -iquote . -iquote bazel-out/k8-fastbuild/bin -iquote external/nanobind -iquote bazel-out/k8-fastbuild/bin/external/nanobind -iquote external/robin_map -iquote bazel-out/k8-fastbuild/bin/external/robin_map -iquote external/local_config_python -iquote bazel-out/k8-fastbuild/bin/external/local_config_python -iquote external/local_config_cuda -iquote bazel-out/k8-fastbuild/bin/external/local_config_cuda -fno-canonical-system-headers -no-canonical-prefixes  -fPIC\" --compiler-bindir=/usr/bin/gcc -I . -x cu  -g -I bazel-out/k8-fastbuild/bin/external/robin_map/_virtual_includes/robin_map -c ext/ext.cu.cc -o bazel-out/k8-fastbuild/bin/ext/_objs/ext.so/ext.cu.pic.o'"
      ]
     },
     "execution_count": 3,
     "metadata": {},
     "output_type": "execute_result"
    }
   ],
   "source": [
    "import subprocess\n",
    "import shlex\n",
    "\n",
    "def get_cmd():\n",
    "    ret_proc = subprocess.run(shlex.split(\"python return_text.py\"),capture_output=True,encoding=\"utf-8\",check=False)\n",
    "    yield {\"out\",ret_proc.stdout.strip()}\n"
   ]
  },
  {
   "cell_type": "code",
   "execution_count": 8,
   "metadata": {},
   "outputs": [],
   "source": [
    "import json\n",
    "\n",
    "save = []\n",
    "save.extend({\"out\":ret_proc.stdout.strip()})\n",
    "with open(\"sample.json\",\"w\") as f:\n",
    "    json.dump(save,f,indent=2,check_circular=False)"
   ]
  },
  {
   "cell_type": "code",
   "execution_count": 10,
   "metadata": {},
   "outputs": [
    {
     "data": {
      "text/plain": [
       "{'out': '/usr/local/cuda-12.1/bin/nvcc -D_FORCE_INLINES -gencode=arch=compute_80,\"code=sm_80\" --device-debug --expt-relaxed-constexpr -U_FORTIFY_SOURCE -D_FORTIFY_SOURCE=1 -DGOOGLE_CUDA=1 -std=c++17 --std c++17  --fatbin-options=--compress-all -allow-unsupported-compiler --expt-extended-lambda --expt-relaxed-constexpr  --compiler-options \" -isystem external/nanobind/include -isystem bazel-out/k8-fastbuild/bin/external/nanobind/include -isystem external/robin_map -isystem bazel-out/k8-fastbuild/bin/external/robin_map -isystem external/local_config_python/python_include -isystem bazel-out/k8-fastbuild/bin/external/local_config_python/python_include -iquote . -iquote bazel-out/k8-fastbuild/bin -iquote external/nanobind -iquote bazel-out/k8-fastbuild/bin/external/nanobind -iquote external/robin_map -iquote bazel-out/k8-fastbuild/bin/external/robin_map -iquote external/local_config_python -iquote bazel-out/k8-fastbuild/bin/external/local_config_python -iquote external/local_config_cuda -iquote bazel-out/k8-fastbuild/bin/external/local_config_cuda -fno-canonical-system-headers -no-canonical-prefixes  -fPIC\" --compiler-bindir=/usr/bin/gcc -I . -x cu  -g -I bazel-out/k8-fastbuild/bin/external/robin_map/_virtual_includes/robin_map -c ext/ext.cu.cc -o bazel-out/k8-fastbuild/bin/ext/_objs/ext.so/ext.cu.pic.o'}"
      ]
     },
     "execution_count": 10,
     "metadata": {},
     "output_type": "execute_result"
    }
   ],
   "source": [
    "{\"out\":ret_proc.stdout.strip()}"
   ]
  },
  {
   "cell_type": "code",
   "execution_count": null,
   "metadata": {},
   "outputs": [],
   "source": []
  }
 ],
 "metadata": {
  "kernelspec": {
   "display_name": "build",
   "language": "python",
   "name": "python3"
  },
  "language_info": {
   "codemirror_mode": {
    "name": "ipython",
    "version": 3
   },
   "file_extension": ".py",
   "mimetype": "text/x-python",
   "name": "python",
   "nbconvert_exporter": "python",
   "pygments_lexer": "ipython3",
   "version": "3.10.13"
  }
 },
 "nbformat": 4,
 "nbformat_minor": 2
}
